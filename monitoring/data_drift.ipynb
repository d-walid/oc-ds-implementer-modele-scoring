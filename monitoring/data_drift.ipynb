{
 "cells": [
  {
   "cell_type": "markdown",
   "metadata": {},
   "source": [
    "# Imports"
   ]
  },
  {
   "cell_type": "markdown",
   "metadata": {},
   "source": [
    "## Librairies"
   ]
  },
  {
   "cell_type": "code",
   "execution_count": 2,
   "metadata": {},
   "outputs": [],
   "source": [
    "import pandas as pd\n",
    "import numpy as np\n",
    "import time\n",
    "from evidently.report import Report\n",
    "from evidently.metric_preset import DataDriftPreset, ClassificationPreset\n",
    "from evidently import ColumnMapping\n",
    "\n",
    "from sklearn.metrics import accuracy_score"
   ]
  },
  {
   "cell_type": "markdown",
   "metadata": {},
   "source": [
    "## Data"
   ]
  },
  {
   "cell_type": "code",
   "execution_count": 3,
   "metadata": {},
   "outputs": [],
   "source": [
    "df = pd.read_csv(\"../data/cleaned/df_sample.csv\", sep=\";\")\n",
    "app_train = df.sample(frac=0.7, random_state=42)\n",
    "app_test = df.drop(app_train.index)"
   ]
  },
  {
   "cell_type": "markdown",
   "metadata": {},
   "source": [
    "# Data-Drift"
   ]
  },
  {
   "cell_type": "code",
   "execution_count": 4,
   "metadata": {},
   "outputs": [],
   "source": [
    "app_train = app_train.drop(columns=[\"SK_ID_CURR\", \"TARGET\"])\n",
    "app_test = app_test.drop(columns=[\"SK_ID_CURR\", \"TARGET\"])"
   ]
  },
  {
   "cell_type": "code",
   "execution_count": 5,
   "metadata": {},
   "outputs": [],
   "source": [
    "ignored_cols = [\"SK_ID_CURR\", \"TARGET\"]\n",
    "\n",
    "categorical_columns = [\n",
    "    col for col in app_train.columns\n",
    "    if set(app_train[col].unique()).issubset({0, 1})\n",
    "]\n",
    "\n",
    "numerical_columns = [\n",
    "    col for col in app_train.columns\n",
    "    if col not in categorical_columns + ignored_cols\n",
    "]"
   ]
  },
  {
   "cell_type": "code",
   "execution_count": 6,
   "metadata": {},
   "outputs": [],
   "source": [
    "column_mapping = ColumnMapping()\n",
    "column_mapping.categorical_features = categorical_columns\n",
    "column_mapping.numerical_features = numerical_columns"
   ]
  },
  {
   "cell_type": "code",
   "execution_count": 7,
   "metadata": {},
   "outputs": [],
   "source": [
    "report = Report(metrics=[\n",
    "    DataDriftPreset(\n",
    "        num_stattest=\"ks\", cat_stattest=\"psi\",\n",
    "        num_stattest_threshold=0.2, cat_stattest_threshold=0.2,\n",
    "    )\n",
    "])\n",
    "\n",
    "report.run(reference_data=app_train, current_data=app_test, column_mapping=column_mapping)\n",
    "report.save_html(\"data_drift_report.html\")"
   ]
  }
 ],
 "metadata": {
  "kernelspec": {
   "display_name": "Python 3 (ipykernel)",
   "language": "python",
   "name": "python3"
  },
  "language_info": {
   "codemirror_mode": {
    "name": "ipython",
    "version": 3
   },
   "file_extension": ".py",
   "mimetype": "text/x-python",
   "name": "python",
   "nbconvert_exporter": "python",
   "pygments_lexer": "ipython3",
   "version": "3.9.18"
  }
 },
 "nbformat": 4,
 "nbformat_minor": 4
}
