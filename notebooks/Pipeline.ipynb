{
 "cells": [
  {
   "cell_type": "markdown",
   "id": "02050314-ba14-42fa-979f-7b83601694d5",
   "metadata": {},
   "source": [
    "# Imports"
   ]
  },
  {
   "cell_type": "markdown",
   "id": "1793810e-7f18-4844-ab4f-7d91d8ea23ac",
   "metadata": {},
   "source": [
    "## Librairies"
   ]
  },
  {
   "cell_type": "code",
   "execution_count": 27,
   "id": "b350f366-9a6a-4dcb-9a77-d79cdd6f2b38",
   "metadata": {},
   "outputs": [],
   "source": [
    "import numpy as np\n",
    "import pandas as pd\n",
    "import os\n",
    "import warnings\n",
    "import time\n",
    "import logging\n",
    "import joblib\n",
    "\n",
    "import matplotlib.pyplot as plt\n",
    "import seaborn as sns\n",
    "\n",
    "from sklearn.ensemble import RandomForestClassifier\n",
    "from sklearn.linear_model import LogisticRegression\n",
    "from sklearn.pipeline import Pipeline\n",
    "from sklearn.preprocessing import MinMaxScaler\n",
    "from sklearn.impute import SimpleImputer\n",
    "from sklearn.metrics import accuracy_score, roc_auc_score, confusion_matrix, make_scorer\n",
    "from sklearn.model_selection import train_test_split, GridSearchCV"
   ]
  },
  {
   "cell_type": "markdown",
   "id": "1100ae55-6ca0-47e7-9526-f5c770151339",
   "metadata": {},
   "source": [
    "## Options"
   ]
  },
  {
   "cell_type": "code",
   "execution_count": 2,
   "id": "5030ab7e-3730-4313-9bfe-a02d9b3f1f4e",
   "metadata": {},
   "outputs": [],
   "source": [
    "sns.set()\n",
    "warnings.filterwarnings('ignore')\n",
    "\n",
    "pd.set_option(\"display.float_format\", lambda x: f\"{x:,.2f}\")\n",
    "pd.set_option('display.max_colwidth', None)"
   ]
  },
  {
   "cell_type": "markdown",
   "id": "1ad4ded6-3e60-45d2-9a56-e1ed2f31cb35",
   "metadata": {},
   "source": [
    "## Data"
   ]
  },
  {
   "cell_type": "code",
   "execution_count": 3,
   "id": "6090cae8-1aa3-4546-aabb-20c3d2bbc414",
   "metadata": {},
   "outputs": [
    {
     "data": {
      "text/html": [
       "<div>\n",
       "<style scoped>\n",
       "    .dataframe tbody tr th:only-of-type {\n",
       "        vertical-align: middle;\n",
       "    }\n",
       "\n",
       "    .dataframe tbody tr th {\n",
       "        vertical-align: top;\n",
       "    }\n",
       "\n",
       "    .dataframe thead th {\n",
       "        text-align: right;\n",
       "    }\n",
       "</style>\n",
       "<table border=\"1\" class=\"dataframe\">\n",
       "  <thead>\n",
       "    <tr style=\"text-align: right;\">\n",
       "      <th></th>\n",
       "      <th>SK_ID_CURR</th>\n",
       "      <th>TARGET</th>\n",
       "      <th>NAME_CONTRACT_TYPE</th>\n",
       "      <th>FLAG_OWN_CAR</th>\n",
       "      <th>FLAG_OWN_REALTY</th>\n",
       "      <th>CNT_CHILDREN</th>\n",
       "      <th>AMT_INCOME_TOTAL</th>\n",
       "      <th>AMT_CREDIT</th>\n",
       "      <th>AMT_ANNUITY</th>\n",
       "      <th>AMT_GOODS_PRICE</th>\n",
       "      <th>...</th>\n",
       "      <th>WALLSMATERIAL_MODE_Block</th>\n",
       "      <th>WALLSMATERIAL_MODE_Mixed</th>\n",
       "      <th>WALLSMATERIAL_MODE_Monolithic</th>\n",
       "      <th>WALLSMATERIAL_MODE_Others</th>\n",
       "      <th>WALLSMATERIAL_MODE_Panel</th>\n",
       "      <th>WALLSMATERIAL_MODE_Stone, brick</th>\n",
       "      <th>WALLSMATERIAL_MODE_Wooden</th>\n",
       "      <th>EMERGENCYSTATE_MODE_No</th>\n",
       "      <th>EMERGENCYSTATE_MODE_Yes</th>\n",
       "      <th>DAYS_EMPLOYED_ANOM</th>\n",
       "    </tr>\n",
       "  </thead>\n",
       "  <tbody>\n",
       "    <tr>\n",
       "      <th>0</th>\n",
       "      <td>100002</td>\n",
       "      <td>1</td>\n",
       "      <td>0</td>\n",
       "      <td>0</td>\n",
       "      <td>1</td>\n",
       "      <td>0</td>\n",
       "      <td>202,500.00</td>\n",
       "      <td>406,597.50</td>\n",
       "      <td>24,700.50</td>\n",
       "      <td>351,000.00</td>\n",
       "      <td>...</td>\n",
       "      <td>False</td>\n",
       "      <td>False</td>\n",
       "      <td>False</td>\n",
       "      <td>False</td>\n",
       "      <td>False</td>\n",
       "      <td>True</td>\n",
       "      <td>False</td>\n",
       "      <td>True</td>\n",
       "      <td>False</td>\n",
       "      <td>False</td>\n",
       "    </tr>\n",
       "    <tr>\n",
       "      <th>1</th>\n",
       "      <td>100003</td>\n",
       "      <td>0</td>\n",
       "      <td>0</td>\n",
       "      <td>0</td>\n",
       "      <td>0</td>\n",
       "      <td>0</td>\n",
       "      <td>270,000.00</td>\n",
       "      <td>1,293,502.50</td>\n",
       "      <td>35,698.50</td>\n",
       "      <td>1,129,500.00</td>\n",
       "      <td>...</td>\n",
       "      <td>True</td>\n",
       "      <td>False</td>\n",
       "      <td>False</td>\n",
       "      <td>False</td>\n",
       "      <td>False</td>\n",
       "      <td>False</td>\n",
       "      <td>False</td>\n",
       "      <td>True</td>\n",
       "      <td>False</td>\n",
       "      <td>False</td>\n",
       "    </tr>\n",
       "    <tr>\n",
       "      <th>2</th>\n",
       "      <td>100004</td>\n",
       "      <td>0</td>\n",
       "      <td>1</td>\n",
       "      <td>1</td>\n",
       "      <td>1</td>\n",
       "      <td>0</td>\n",
       "      <td>67,500.00</td>\n",
       "      <td>135,000.00</td>\n",
       "      <td>6,750.00</td>\n",
       "      <td>135,000.00</td>\n",
       "      <td>...</td>\n",
       "      <td>False</td>\n",
       "      <td>False</td>\n",
       "      <td>False</td>\n",
       "      <td>False</td>\n",
       "      <td>False</td>\n",
       "      <td>False</td>\n",
       "      <td>False</td>\n",
       "      <td>False</td>\n",
       "      <td>False</td>\n",
       "      <td>False</td>\n",
       "    </tr>\n",
       "    <tr>\n",
       "      <th>3</th>\n",
       "      <td>100006</td>\n",
       "      <td>0</td>\n",
       "      <td>0</td>\n",
       "      <td>0</td>\n",
       "      <td>1</td>\n",
       "      <td>0</td>\n",
       "      <td>135,000.00</td>\n",
       "      <td>312,682.50</td>\n",
       "      <td>29,686.50</td>\n",
       "      <td>297,000.00</td>\n",
       "      <td>...</td>\n",
       "      <td>False</td>\n",
       "      <td>False</td>\n",
       "      <td>False</td>\n",
       "      <td>False</td>\n",
       "      <td>False</td>\n",
       "      <td>False</td>\n",
       "      <td>False</td>\n",
       "      <td>False</td>\n",
       "      <td>False</td>\n",
       "      <td>False</td>\n",
       "    </tr>\n",
       "    <tr>\n",
       "      <th>4</th>\n",
       "      <td>100007</td>\n",
       "      <td>0</td>\n",
       "      <td>0</td>\n",
       "      <td>0</td>\n",
       "      <td>1</td>\n",
       "      <td>0</td>\n",
       "      <td>121,500.00</td>\n",
       "      <td>513,000.00</td>\n",
       "      <td>21,865.50</td>\n",
       "      <td>513,000.00</td>\n",
       "      <td>...</td>\n",
       "      <td>False</td>\n",
       "      <td>False</td>\n",
       "      <td>False</td>\n",
       "      <td>False</td>\n",
       "      <td>False</td>\n",
       "      <td>False</td>\n",
       "      <td>False</td>\n",
       "      <td>False</td>\n",
       "      <td>False</td>\n",
       "      <td>False</td>\n",
       "    </tr>\n",
       "  </tbody>\n",
       "</table>\n",
       "<p>5 rows × 244 columns</p>\n",
       "</div>"
      ],
      "text/plain": [
       "   SK_ID_CURR  TARGET  NAME_CONTRACT_TYPE  FLAG_OWN_CAR  FLAG_OWN_REALTY  \\\n",
       "0      100002       1                   0             0                1   \n",
       "1      100003       0                   0             0                0   \n",
       "2      100004       0                   1             1                1   \n",
       "3      100006       0                   0             0                1   \n",
       "4      100007       0                   0             0                1   \n",
       "\n",
       "   CNT_CHILDREN  AMT_INCOME_TOTAL   AMT_CREDIT  AMT_ANNUITY  AMT_GOODS_PRICE  \\\n",
       "0             0        202,500.00   406,597.50    24,700.50       351,000.00   \n",
       "1             0        270,000.00 1,293,502.50    35,698.50     1,129,500.00   \n",
       "2             0         67,500.00   135,000.00     6,750.00       135,000.00   \n",
       "3             0        135,000.00   312,682.50    29,686.50       297,000.00   \n",
       "4             0        121,500.00   513,000.00    21,865.50       513,000.00   \n",
       "\n",
       "   ...  WALLSMATERIAL_MODE_Block  WALLSMATERIAL_MODE_Mixed  \\\n",
       "0  ...                     False                     False   \n",
       "1  ...                      True                     False   \n",
       "2  ...                     False                     False   \n",
       "3  ...                     False                     False   \n",
       "4  ...                     False                     False   \n",
       "\n",
       "   WALLSMATERIAL_MODE_Monolithic  WALLSMATERIAL_MODE_Others  \\\n",
       "0                          False                      False   \n",
       "1                          False                      False   \n",
       "2                          False                      False   \n",
       "3                          False                      False   \n",
       "4                          False                      False   \n",
       "\n",
       "   WALLSMATERIAL_MODE_Panel  WALLSMATERIAL_MODE_Stone, brick  \\\n",
       "0                     False                             True   \n",
       "1                     False                            False   \n",
       "2                     False                            False   \n",
       "3                     False                            False   \n",
       "4                     False                            False   \n",
       "\n",
       "   WALLSMATERIAL_MODE_Wooden  EMERGENCYSTATE_MODE_No  EMERGENCYSTATE_MODE_Yes  \\\n",
       "0                      False                    True                    False   \n",
       "1                      False                    True                    False   \n",
       "2                      False                   False                    False   \n",
       "3                      False                   False                    False   \n",
       "4                      False                   False                    False   \n",
       "\n",
       "   DAYS_EMPLOYED_ANOM  \n",
       "0               False  \n",
       "1               False  \n",
       "2               False  \n",
       "3               False  \n",
       "4               False  \n",
       "\n",
       "[5 rows x 244 columns]"
      ]
     },
     "execution_count": 3,
     "metadata": {},
     "output_type": "execute_result"
    }
   ],
   "source": [
    "df = pd.read_csv('data/cleaned/df.csv', sep=\";\")\n",
    "df.head()"
   ]
  },
  {
   "cell_type": "markdown",
   "id": "d477c530-eb57-4eed-9812-dbc9c9cffab0",
   "metadata": {},
   "source": [
    "# Pipeline"
   ]
  },
  {
   "cell_type": "markdown",
   "id": "c445af1d-16df-4d79-bae6-71c9bde7bc63",
   "metadata": {},
   "source": [
    "## Préparation des données"
   ]
  },
  {
   "cell_type": "code",
   "execution_count": 12,
   "id": "9cea9706-4ae5-41c9-9ef9-35d94f36576a",
   "metadata": {},
   "outputs": [
    {
     "name": "stdout",
     "output_type": "stream",
     "text": [
      "Train shape : (246008, 242)\n",
      "Test shape : (61503, 242)\n"
     ]
    }
   ],
   "source": [
    "if 'TARGET' in df.columns:\n",
    "    X = df.drop(columns=['TARGET', 'SK_ID_CURR'])\n",
    "    y = df['TARGET']\n",
    "else:\n",
    "    X = df.drop(columns=['SK_ID_CURR']).copy()\n",
    "\n",
    "feature_names = X.columns\n",
    "\n",
    "X_train, X_test, y_train, y_test = train_test_split(\n",
    "    X, y, test_size=0.2, stratify=y, random_state=42\n",
    ")\n",
    "\n",
    "print(f\"Train shape : {X_train.shape}\")\n",
    "print(f\"Test shape : {X_test.shape}\")"
   ]
  },
  {
   "cell_type": "markdown",
   "id": "15881f8e-3519-4bdf-aa68-1e682e00a2f5",
   "metadata": {},
   "source": [
    "## Construction de la pipeline "
   ]
  },
  {
   "cell_type": "code",
   "execution_count": 13,
   "id": "8a666533-225b-4f1f-8301-9f6f8d4029f3",
   "metadata": {},
   "outputs": [],
   "source": [
    "def custom_cost_function(y_true, y_pred, cost_fp, cost_fn):\n",
    "    tn, fp, fn, tp = confusion_matrix(y_true, y_pred).ravel()\n",
    "    return cost_fp * fp + cost_fn * fn"
   ]
  },
  {
   "cell_type": "code",
   "execution_count": 14,
   "id": "95202d05-181a-45f9-a90b-c07dd6344c71",
   "metadata": {},
   "outputs": [],
   "source": [
    "cost_scorer = make_scorer(\n",
    "    custom_cost_function,\n",
    "    greater_is_better=False,\n",
    "    cost_fp = 1,\n",
    "    cost_fn = 10\n",
    ")"
   ]
  },
  {
   "cell_type": "code",
   "execution_count": 15,
   "id": "f08b8ef4-84ef-479e-af1d-3ee94d11165e",
   "metadata": {},
   "outputs": [],
   "source": [
    "def train_pipeline(X_train, y_train, clf, param_grid, cost_scorer):\n",
    "    pipeline = Pipeline([\n",
    "        (\"imputer\", SimpleImputer(strategy='median')),\n",
    "        (\"scaler\", MinMaxScaler(feature_range=(0, 1))),\n",
    "        (\"clf\", clf)\n",
    "    ])\n",
    "    \n",
    "    grid_search = GridSearchCV(\n",
    "        estimator=pipeline,\n",
    "        param_grid=param_grid,\n",
    "        scoring=cost_scorer,\n",
    "        cv=5,\n",
    "        n_jobs=-1\n",
    "    )\n",
    "\n",
    "    start_time = time.time()\n",
    "    grid_search.fit(X_train, y_train)\n",
    "    end_time = time.time()\n",
    "\n",
    "    best_pipeline = grid_search.best_estimator_\n",
    "    best_params = grid_search.best_params_\n",
    "    best_cost_cv = -grid_search.best_score_\n",
    "    train_time = end_time - start_time\n",
    "\n",
    "    train_pipeline_result = pd.DataFrame({\n",
    "        \"Model\" : [best_pipeline.named_steps[\"clf\"].__class__.__name__],\n",
    "        \"Hyperparams\" : [str(best_params)],\n",
    "        \"Cost_cv\" : [best_cost_cv],\n",
    "        \"Train_time\" : [train_time]\n",
    "    })\n",
    "\n",
    "    return best_pipeline, train_pipeline_result, grid_search"
   ]
  },
  {
   "cell_type": "code",
   "execution_count": 16,
   "id": "102eae5b-af01-431b-af66-0a2620e3ab3b",
   "metadata": {},
   "outputs": [],
   "source": [
    "def evaluate_pipeline(pipeline, X_test, y_test, cost_fp=1, cost_fn=10):\n",
    "    y_pred = pipeline.predict(X_test)\n",
    "    accuracy = accuracy_score(y_test, y_pred)\n",
    "    auc = roc_auc_score(y_test, pipeline.predict_proba(X_test)[:, 1])\n",
    "    cost = custom_cost_function(y_test, y_pred, cost_fp=cost_fp, cost_fn=cost_fn)\n",
    "    cm = confusion_matrix(y_test, y_pred)\n",
    "\n",
    "    return {\n",
    "        \"accuracy\" : accuracy,\n",
    "        \"auc\" : auc,\n",
    "        \"cost\" : cost,\n",
    "        \"confusion_matrix\" : cm\n",
    "    }"
   ]
  },
  {
   "cell_type": "code",
   "execution_count": 17,
   "id": "4805098a-cd1b-4980-aa9b-f112b7ec5d97",
   "metadata": {},
   "outputs": [],
   "source": [
    "def train_models(X_train, y_train, cost_scorer):\n",
    "    # Régression Logistique\n",
    "    param_grid_log = {\n",
    "        \"clf__C\" : [0.1, 1, 10]\n",
    "    }\n",
    "\n",
    "    best_pipeline_log, df_reg_log, grid_search_log = train_pipeline(\n",
    "        X_train, y_train, \n",
    "        clf=LogisticRegression(class_weight=\"balanced\", max_iter=100, random_state=42),\n",
    "        param_grid=param_grid_log,\n",
    "        cost_scorer=cost_scorer\n",
    "    )\n",
    "\n",
    "    # RandomForestClassifier\n",
    "    param_grid_rf = {\n",
    "        \"clf__n_estimators\": [50, 100],\n",
    "        \"clf__max_depth\": [2, 5, 10],\n",
    "        \"clf__min_samples_split\": [2, 3, 5]\n",
    "    }\n",
    "    \n",
    "    best_pipeline_rf, df_rf, grid_search_rf = train_pipeline(\n",
    "        X_train, y_train, \n",
    "        clf=RandomForestClassifier(class_weight=\"balanced\", random_state=42),\n",
    "        param_grid=param_grid_rf,\n",
    "        cost_scorer=cost_scorer\n",
    "    )\n",
    "\n",
    "    df_final = pd.concat([df_reg_log, df_rf], ignore_index=True)\n",
    "    return best_pipeline_log, best_pipeline_rf, df_final, grid_search_log, grid_search_rf"
   ]
  },
  {
   "cell_type": "code",
   "execution_count": 18,
   "id": "de55fffb-2c72-4be0-ab6b-5d84bba7a9ed",
   "metadata": {},
   "outputs": [
    {
     "data": {
      "text/html": [
       "<div>\n",
       "<style scoped>\n",
       "    .dataframe tbody tr th:only-of-type {\n",
       "        vertical-align: middle;\n",
       "    }\n",
       "\n",
       "    .dataframe tbody tr th {\n",
       "        vertical-align: top;\n",
       "    }\n",
       "\n",
       "    .dataframe thead th {\n",
       "        text-align: right;\n",
       "    }\n",
       "</style>\n",
       "<table border=\"1\" class=\"dataframe\">\n",
       "  <thead>\n",
       "    <tr style=\"text-align: right;\">\n",
       "      <th></th>\n",
       "      <th>Model</th>\n",
       "      <th>Hyperparams</th>\n",
       "      <th>Cost_cv</th>\n",
       "      <th>Train_time</th>\n",
       "    </tr>\n",
       "  </thead>\n",
       "  <tbody>\n",
       "    <tr>\n",
       "      <th>0</th>\n",
       "      <td>LogisticRegression</td>\n",
       "      <td>{'clf__C': 10}</td>\n",
       "      <td>27,135.40</td>\n",
       "      <td>133.50</td>\n",
       "    </tr>\n",
       "    <tr>\n",
       "      <th>1</th>\n",
       "      <td>RandomForestClassifier</td>\n",
       "      <td>{'clf__max_depth': 10, 'clf__min_samples_split': 3, 'clf__n_estimators': 100}</td>\n",
       "      <td>28,123.20</td>\n",
       "      <td>771.84</td>\n",
       "    </tr>\n",
       "  </tbody>\n",
       "</table>\n",
       "</div>"
      ],
      "text/plain": [
       "                    Model  \\\n",
       "0      LogisticRegression   \n",
       "1  RandomForestClassifier   \n",
       "\n",
       "                                                                     Hyperparams  \\\n",
       "0                                                                 {'clf__C': 10}   \n",
       "1  {'clf__max_depth': 10, 'clf__min_samples_split': 3, 'clf__n_estimators': 100}   \n",
       "\n",
       "    Cost_cv  Train_time  \n",
       "0 27,135.40      133.50  \n",
       "1 28,123.20      771.84  "
      ]
     },
     "execution_count": 18,
     "metadata": {},
     "output_type": "execute_result"
    }
   ],
   "source": [
    "best_pipeline_log, best_pipeline_rf, df_train_results, grid_search_log, grid_search_rf = train_models(\n",
    "    X_train, y_train, cost_scorer\n",
    ")\n",
    "\n",
    "df_train_results"
   ]
  },
  {
   "cell_type": "code",
   "execution_count": 19,
   "id": "5fc1f9d9-5a2b-4b86-a954-11b88affcb2c",
   "metadata": {},
   "outputs": [],
   "source": [
    "evaluation_log = evaluate_pipeline(best_pipeline_log, X_test, y_test, cost_fp=1, cost_fn=10)\n",
    "evaluation_rf = evaluate_pipeline(best_pipeline_rf, X_test, y_test, cost_fp=1, cost_fn=10)"
   ]
  },
  {
   "cell_type": "code",
   "execution_count": 26,
   "id": "0073ddf2-8f43-48b0-89ec-354284572a22",
   "metadata": {},
   "outputs": [
    {
     "data": {
      "text/html": [
       "<div>\n",
       "<style scoped>\n",
       "    .dataframe tbody tr th:only-of-type {\n",
       "        vertical-align: middle;\n",
       "    }\n",
       "\n",
       "    .dataframe tbody tr th {\n",
       "        vertical-align: top;\n",
       "    }\n",
       "\n",
       "    .dataframe thead th {\n",
       "        text-align: right;\n",
       "    }\n",
       "</style>\n",
       "<table border=\"1\" class=\"dataframe\">\n",
       "  <thead>\n",
       "    <tr style=\"text-align: right;\">\n",
       "      <th></th>\n",
       "      <th>Model</th>\n",
       "      <th>Hyperparams</th>\n",
       "      <th>Cost_cv</th>\n",
       "      <th>Train_time</th>\n",
       "      <th>Cost_test</th>\n",
       "      <th>Accuracy_test</th>\n",
       "      <th>AUC_test</th>\n",
       "    </tr>\n",
       "  </thead>\n",
       "  <tbody>\n",
       "    <tr>\n",
       "      <th>0</th>\n",
       "      <td>LogisticRegression</td>\n",
       "      <td>{'clf__C': 10}</td>\n",
       "      <td>27,135.40</td>\n",
       "      <td>133.50</td>\n",
       "      <td>25583</td>\n",
       "      <td>0.69</td>\n",
       "      <td>0.75</td>\n",
       "    </tr>\n",
       "    <tr>\n",
       "      <th>1</th>\n",
       "      <td>RandomForestClassifier</td>\n",
       "      <td>{'clf__max_depth': 10, 'clf__min_samples_split': 3, 'clf__n_estimators': 100}</td>\n",
       "      <td>28,123.20</td>\n",
       "      <td>771.84</td>\n",
       "      <td>25052</td>\n",
       "      <td>0.72</td>\n",
       "      <td>0.73</td>\n",
       "    </tr>\n",
       "  </tbody>\n",
       "</table>\n",
       "</div>"
      ],
      "text/plain": [
       "                    Model  \\\n",
       "0      LogisticRegression   \n",
       "1  RandomForestClassifier   \n",
       "\n",
       "                                                                     Hyperparams  \\\n",
       "0                                                                 {'clf__C': 10}   \n",
       "1  {'clf__max_depth': 10, 'clf__min_samples_split': 3, 'clf__n_estimators': 100}   \n",
       "\n",
       "    Cost_cv  Train_time  Cost_test  Accuracy_test  AUC_test  \n",
       "0 27,135.40      133.50      25583           0.69      0.75  \n",
       "1 28,123.20      771.84      25052           0.72      0.73  "
      ]
     },
     "execution_count": 26,
     "metadata": {},
     "output_type": "execute_result"
    }
   ],
   "source": [
    "df_train_results['Cost_test'] = [evaluation_log['cost'], evaluation_rf['cost']]\n",
    "df_train_results['Accuracy_test'] = [evaluation_log['accuracy'], evaluation_rf['accuracy']]\n",
    "df_train_results['AUC_test'] = [evaluation_log['auc'], evaluation_rf['auc']]\n",
    "\n",
    "df_train_results"
   ]
  },
  {
   "cell_type": "markdown",
   "id": "8e81aafa-bb14-4611-9641-48b9422a6b5d",
   "metadata": {},
   "source": [
    "## Matrice de confusion (meilleur modèle)"
   ]
  },
  {
   "cell_type": "code",
   "execution_count": 21,
   "id": "cc1b7940-07ac-4760-85eb-c01236b6d123",
   "metadata": {},
   "outputs": [
    {
     "name": "stdout",
     "output_type": "stream",
     "text": [
      "[[41271 15267]\n",
      " [ 1957  3008]]\n"
     ]
    }
   ],
   "source": [
    "y_pred = best_pipeline_rf.predict(X_test)\n",
    "\n",
    "cm = confusion_matrix(y_test, y_pred)\n",
    "print(cm)"
   ]
  },
  {
   "cell_type": "code",
   "execution_count": 22,
   "id": "e35157c8-0c05-433d-bfc2-4775736ebfa3",
   "metadata": {},
   "outputs": [
    {
     "data": {
      "image/png": "[encoded data removed]",
      "text/plain": [
       "<Figure size 500x400 with 2 Axes>"
      ]
     },
     "metadata": {},
     "output_type": "display_data"
    }
   ],
   "source": [
    "plt.figure(figsize=(5, 4))\n",
    "sns.heatmap(cm, annot=True, fmt=\"d\", cmap=\"Greens\")\n",
    "\n",
    "plt.title(\"Matrice de confusion\")\n",
    "plt.xlabel(\"Classe prédite\")\n",
    "plt.ylabel(\"Classe réelle\")\n",
    "\n",
    "plt.tight_layout()\n",
    "plt.show()"
   ]
  },
  {
   "cell_type": "markdown",
   "id": "8d8e8e37-7ac9-4227-956f-c4b1c078cebf",
   "metadata": {},
   "source": [
    "## Sérialisation"
   ]
  },
  {
   "cell_type": "code",
   "execution_count": 31,
   "id": "e1a1e0fd-1dae-4468-a044-0edb11ff1021",
   "metadata": {},
   "outputs": [
    {
     "name": "stdout",
     "output_type": "stream",
     "text": [
      "Les modèles ont été sérialisés et stockés dans le dossier définit.\n"
     ]
    },
    {
     "data": {
      "text/plain": [
       "('models\\\\LogisticRegression_model.joblib',\n",
       " 'models\\\\RandomForestClassifier_model.joblib')"
      ]
     },
     "execution_count": 31,
     "metadata": {},
     "output_type": "execute_result"
    }
   ],
   "source": [
    "def serialization_models(model_log, model_rf, directory=\"models\"):\n",
    "    os.makedirs(directory, exist_ok=True)\n",
    "\n",
    "    model_filename_log = os.path.join(directory, \"LogisticRegression_model.joblib\")\n",
    "    model_filename_rf = os.path.join(directory, \"RandomForestClassifier_model.joblib\")\n",
    "\n",
    "    joblib.dump(model_log, model_filename_log)\n",
    "    joblib.dump(model_rf, model_filename_rf)\n",
    "\n",
    "    print(\"Les modèles ont été sérialisés et stockés dans le dossier définit.\")\n",
    "    return model_filename_log, model_filename_rf\n",
    "\n",
    "\n",
    "serialization_models(best_pipeline_log, best_pipeline_rf)"
   ]
  },
  {
   "cell_type": "code",
   "execution_count": 32,
   "id": "4e159530-277d-4a3c-924b-41be461cb111",
   "metadata": {},
   "outputs": [
    {
     "name": "stdout",
     "output_type": "stream",
     "text": [
      "Les résultats des entraîements ont été enregistrés dans results\\training_results.csv\n"
     ]
    }
   ],
   "source": [
    "def save_results(df_results, directory=\"results\", filename=\"training_results.csv\"):\n",
    "    os.makedirs(directory, exist_ok=True)\n",
    "    filepath = os.path.join(directory, filename)\n",
    "    df_results.to_csv(filepath, index=False, encoding=\"utf-8\")\n",
    "    print(f\"Les résultats des entraîements ont été enregistrés dans {filepath}\")\n",
    "\n",
    "\n",
    "save_results(df_train_results)"
   ]
  },
  {
   "cell_type": "code",
   "execution_count": null,
   "id": "351e7678-1e86-4b48-884c-d32e7a4ce303",
   "metadata": {},
   "outputs": [],
   "source": []
  }
 ],
 "metadata": {
  "kernelspec": {
   "display_name": "Python 3 (ipykernel)",
   "language": "python",
   "name": "python3"
  },
  "language_info": {
   "codemirror_mode": {
    "name": "ipython",
    "version": 3
   },
   "file_extension": ".py",
   "mimetype": "text/x-python",
   "name": "python",
   "nbconvert_exporter": "python",
   "pygments_lexer": "ipython3",
   "version": "3.11.5"
  }
 },
 "nbformat": 4,
 "nbformat_minor": 5
}
